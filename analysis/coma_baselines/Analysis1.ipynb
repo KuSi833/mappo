{
 "cells": [
  {
   "cell_type": "code",
   "execution_count": 1,
   "metadata": {},
   "outputs": [],
   "source": [
    "import pymongo\n",
    "import os, sys\n",
    "root_dir = \"/home/cs/Documents/pymarl/src\"\n",
    "sys.path = ['/home/cs/Documents/pymarl/src'] + sys.path"
   ]
  },
  {
   "cell_type": "code",
   "execution_count": 2,
   "metadata": {},
   "outputs": [],
   "source": [
    "from config import mongodb"
   ]
  },
  {
   "cell_type": "code",
   "execution_count": 3,
   "metadata": {},
   "outputs": [],
   "source": [
    "from config.mongodb import REGISTRY as mongo_REGISTRY\n",
    "def get_mongo_db_client(conf_name, maxSevSelDelay=5000):    \n",
    "    mongo_conf = mongo_REGISTRY[conf_name](None, None)\n",
    "    db_url = mongo_conf[\"db_url\"]\n",
    "    db_name = mongo_conf[\"db_name\"]\n",
    "    client = pymongo.MongoClient(db_url, ssl=True, serverSelectionTimeoutMS=maxSevSelDelay)\n",
    "    return client, client[db_name]"
   ]
  },
  {
   "cell_type": "code",
   "execution_count": 4,
   "metadata": {},
   "outputs": [],
   "source": [
    "class MongoCentral():\n",
    "    \n",
    "    def __init__(self, *args, **kwargs):\n",
    "        self.conf_names = kwargs[\"conf_names\"]\n",
    "        self.db = {}\n",
    "        self._connect(self.conf_names)\n",
    "        \n",
    "    def _connect(self, conf_names):\n",
    "        self.clients = {}\n",
    "        for _name in conf_names:\n",
    "            self.clients[_name], self.db[_name] = get_mongo_db_client(_name)\n",
    "            \n",
    "    def get_exp_names(self):\n",
    "        #print(\"Loading keys...\")\n",
    "        names = []\n",
    "        for key, db in self.db.items():\n",
    "            query = db[\"runs\"].distinct(\"config.name\") # .find({\"config\":None})\n",
    "            names.extend(query)\n",
    "            print(\"Done Loading...\")\n",
    "        return names\n",
    "    \n",
    "    def get_tag_names(self, tag, bundle=True):\n",
    "        import re\n",
    "        names = []\n",
    "        for key, db in self.db.items():            \n",
    "            query = db.runs.find({\"config.name\":{'$regex':r'^BASE2(.*)'}}, {\"config.name\":1}) # .find({\"config\":None})\n",
    "            names.extend([_q[\"config\"][\"name\"] for _q in query])\n",
    "            print(\"Done Loading...\")\n",
    "            \n",
    "        if bundle: # bundle by experiment name\n",
    "            bundle_dic = {}\n",
    "            for name in names:\n",
    "                tag, exp_name_time_stamp, repeat = name.split(\"__\")\n",
    "                exp_name = \"_\".join(exp_name_time_stamp.split(\"_\")[:-1])\n",
    "                if exp_name not in bundle_dic:\n",
    "                    bundle_dic[exp_name] = []\n",
    "                bundle_dic[exp_name].append(name) \n",
    "            return bundle_dic\n",
    "        return names\n"
   ]
  },
  {
   "cell_type": "code",
   "execution_count": 5,
   "metadata": {},
   "outputs": [],
   "source": [
    "mongo_central = MongoCentral(conf_names=[\"gandalf_pymarl\"])"
   ]
  },
  {
   "cell_type": "code",
   "execution_count": 6,
   "metadata": {},
   "outputs": [
    {
     "name": "stdout",
     "output_type": "stream",
     "text": [
      "Done Loading...\n",
      "['config', 'coma_baseline_3m__repeat5', 'coma_baseline_3m__repeat4', 'coma_baseline_5m__repeat1', 'coma_baseline_3m__repeat1', 'coma_baseline_3m__repeat3', 'coma_baseline_3m__repeat2', 'coma_baseline_2d_3z__repeat2', 'coma_baseline_2d_3z__repeat1', 'coma_baseline_2d_3z__repeat3', 'coma_baseline_2d_3z__repeat5', 'coma_baseline_2d_3z__repeat4', 'coma_baseline_5m__repeat2', 'coma_baseline_5m__repeat3', 'coma_baseline_5m__repeat4', 'coma_baseline_5m__repeat5', 'iql_pp3x3_3agentcap', 'BASE2__coma_baseline_2d_3z_01/05/18-13:03:01__repeat1', 'BASE2__coma_baseline_3m_01/05/18-13:03:01__repeat1', 'BASE2__coma_baseline_5m_01/05/18-13:03:01__repeat1', 'BASE2__coma_baseline_2d_3z_01/05/18-13:03:01__repeat2', 'BASE2__coma_baseline_3m_01/05/18-13:03:01__repeat2', 'BASE2__coma_baseline_5m_01/05/18-13:03:01__repeat2', 'BASE2__coma_baseline_3m_01/05/18-13:03:01__repeat3', 'BASE2__coma_baseline_2d_3z_01/05/18-13:03:01__repeat3', 'BASE2__coma_baseline_5m_01/05/18-13:03:01__repeat3', 'BASE2__coma_baseline_3m_01/05/18-13:03:01__repeat4', 'BASE2__coma_baseline_2d_3z_01/05/18-13:03:01__repeat4', 'BASE2__coma_baseline_5m_01/05/18-13:03:01__repeat4', 'BASE2__coma_baseline_3m_01/05/18-13:03:01__repeat5', 'BASE2__coma_baseline_2d_3z_01/05/18-13:03:01__repeat5', 'BASE2__coma_baseline_5m_01/05/18-13:03:01__repeat5', 'BASE2__coma_baseline_3m_01/05/18-13:03:36__repeat2', 'BASE2__coma_baseline_3m_01/05/18-13:03:36__repeat1', 'BASE2__coma_baseline_2d_3z_01/05/18-13:03:36__repeat2', 'BASE2__coma_baseline_5m_01/05/18-13:03:36__repeat1', 'BASE2__coma_baseline_2d_3z_01/05/18-13:03:36__repeat1', 'BASE2__coma_baseline_2d_3z_01/05/18-13:03:36__repeat3', 'BASE2__coma_baseline_3m_01/05/18-13:03:36__repeat3', 'BASE2__coma_baseline_2d_3z_01/05/18-13:03:36__repeat4', 'BASE2__coma_baseline_3m_01/05/18-13:03:36__repeat4', 'BASE2__coma_baseline_5m_01/05/18-13:03:36__repeat2', 'BASE2__coma_baseline_3m_01/05/18-13:03:36__repeat5', 'BASE2__coma_baseline_2d_3z_01/05/18-13:03:36__repeat5', 'BASE2__coma_baseline_5m_01/05/18-13:03:36__repeat3', 'BASE2__coma_baseline_5m_01/05/18-13:03:36__repeat4', 'BASE2__coma_baseline_5m_01/05/18-13:03:36__repeat5', 'wen_4x4ppc_4agents_coma']\n",
      "--------------------------\n",
      "Done Loading...\n",
      "{'coma_baseline_2d_3z': ['BASE2__coma_baseline_2d_3z_01/05/18-13:03:01__repeat1',\n",
      "                         'BASE2__coma_baseline_2d_3z_01/05/18-13:03:01__repeat2',\n",
      "                         'BASE2__coma_baseline_2d_3z_01/05/18-13:03:01__repeat3',\n",
      "                         'BASE2__coma_baseline_2d_3z_01/05/18-13:03:01__repeat4',\n",
      "                         'BASE2__coma_baseline_2d_3z_01/05/18-13:03:01__repeat5',\n",
      "                         'BASE2__coma_baseline_2d_3z_01/05/18-13:03:36__repeat2',\n",
      "                         'BASE2__coma_baseline_2d_3z_01/05/18-13:03:36__repeat1',\n",
      "                         'BASE2__coma_baseline_2d_3z_01/05/18-13:03:36__repeat3',\n",
      "                         'BASE2__coma_baseline_2d_3z_01/05/18-13:03:36__repeat4',\n",
      "                         'BASE2__coma_baseline_2d_3z_01/05/18-13:03:36__repeat5'],\n",
      " 'coma_baseline_3m': ['BASE2__coma_baseline_3m_01/05/18-13:03:01__repeat1',\n",
      "                      'BASE2__coma_baseline_3m_01/05/18-13:03:01__repeat2',\n",
      "                      'BASE2__coma_baseline_3m_01/05/18-13:03:01__repeat3',\n",
      "                      'BASE2__coma_baseline_3m_01/05/18-13:03:01__repeat4',\n",
      "                      'BASE2__coma_baseline_3m_01/05/18-13:03:01__repeat5',\n",
      "                      'BASE2__coma_baseline_3m_01/05/18-13:03:36__repeat2',\n",
      "                      'BASE2__coma_baseline_3m_01/05/18-13:03:36__repeat1',\n",
      "                      'BASE2__coma_baseline_3m_01/05/18-13:03:36__repeat3',\n",
      "                      'BASE2__coma_baseline_3m_01/05/18-13:03:36__repeat4',\n",
      "                      'BASE2__coma_baseline_3m_01/05/18-13:03:36__repeat5'],\n",
      " 'coma_baseline_5m': ['BASE2__coma_baseline_5m_01/05/18-13:03:01__repeat1',\n",
      "                      'BASE2__coma_baseline_5m_01/05/18-13:03:01__repeat2',\n",
      "                      'BASE2__coma_baseline_5m_01/05/18-13:03:01__repeat3',\n",
      "                      'BASE2__coma_baseline_5m_01/05/18-13:03:01__repeat4',\n",
      "                      'BASE2__coma_baseline_5m_01/05/18-13:03:01__repeat5',\n",
      "                      'BASE2__coma_baseline_5m_01/05/18-13:03:36__repeat1',\n",
      "                      'BASE2__coma_baseline_5m_01/05/18-13:03:36__repeat2',\n",
      "                      'BASE2__coma_baseline_5m_01/05/18-13:03:36__repeat3',\n",
      "                      'BASE2__coma_baseline_5m_01/05/18-13:03:36__repeat4',\n",
      "                      'BASE2__coma_baseline_5m_01/05/18-13:03:36__repeat5']}\n"
     ]
    }
   ],
   "source": [
    "a = mongo_central.get_exp_names()\n",
    "print(a)\n",
    "print(\"--------------------------\")\n",
    "import pprint\n",
    "b = mongo_central.get_tag_names(\"BASE2\")\n",
    "pprint.pprint(b)"
   ]
  },
  {
   "cell_type": "code",
   "execution_count": 7,
   "metadata": {},
   "outputs": [],
   "source": [
    "def plot_bundle_basics(bundle, mongo_central, mode = \"\"): # mode: individual, all\n",
    "    if mode in [\"individual\"]:\n",
    "        # make separate plot for each key, showing all subkeys\n",
    "        for _k, _list in bundle.items():\n",
    "            for item in _list:\n",
    "    elif mode in [\"all\"]: \n",
    "        # plot all keys on same plot, averaging over subkeys\n",
    "\n",
    "        pass"
   ]
  },
  {
   "cell_type": "code",
   "execution_count": null,
   "metadata": {},
   "outputs": [],
   "source": [
    "def plot_bundle_sc2(bundle, mongo_central, mode = \"\"): # mode: individual, all\n",
    "    if mode in [\"individual\"]:\n",
    "        # make separate plot for each key, showing all subkeys\n",
    "        for _k, _list in bundle.items():\n",
    "            for item in _list:\n",
    "    elif mode in [\"all\"]: \n",
    "        # plot all keys on same plot, averaging over subkeys\n",
    "\n",
    "        pass"
   ]
  }
 ],
 "metadata": {
  "kernelspec": {
   "display_name": "Python 3",
   "language": "python",
   "name": "python3"
  },
  "language_info": {
   "codemirror_mode": {
    "name": "ipython",
    "version": 3
   },
   "file_extension": ".py",
   "mimetype": "text/x-python",
   "name": "python",
   "nbconvert_exporter": "python",
   "pygments_lexer": "ipython3",
   "version": "3.5.2"
  }
 },
 "nbformat": 4,
 "nbformat_minor": 2
}
