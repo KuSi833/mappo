{
 "cells": [
  {
   "cell_type": "code",
   "execution_count": 1,
   "metadata": {},
   "outputs": [],
   "source": [
    "import pymongo\n",
    "import os, sys\n",
    "root_dir = \"/home/cs/Documents/pymarl/src\"\n",
    "sys.path = ['/home/cs/Documents/pymarl/src'] + sys.path"
   ]
  },
  {
   "cell_type": "code",
   "execution_count": 2,
   "metadata": {},
   "outputs": [],
   "source": [
    "from config import mongodb"
   ]
  },
  {
   "cell_type": "code",
   "execution_count": 3,
   "metadata": {},
   "outputs": [],
   "source": [
    "from config.mongodb import REGISTRY as mongo_REGISTRY\n",
    "def get_mongo_db_client(conf_name, maxSevSelDelay=5000):    \n",
    "    mongo_conf = mongo_REGISTRY[conf_name](None, None)\n",
    "    db_url = mongo_conf[\"db_url\"]\n",
    "    client = pymongo.MongoClient(db_url, ssl=True, serverSelectionTimeoutMS=maxSevSelDelay)\n",
    "    print(client.server_info())"
   ]
  },
  {
   "cell_type": "code",
   "execution_count": 4,
   "metadata": {},
   "outputs": [
    {
     "name": "stdout",
     "output_type": "stream",
     "text": [
      "{'debug': False, 'bits': 64, 'maxBsonObjectSize': 16777216, 'versionArray': [3, 6, 3, 0], 'buildEnvironment': {'distmod': 'debian81', 'distarch': 'x86_64', 'ccflags': '-fno-omit-frame-pointer -fno-strict-aliasing -ggdb -pthread -Wall -Wsign-compare -Wno-unknown-pragmas -Winvalid-pch -Werror -O2 -Wno-unused-local-typedefs -Wno-unused-function -Wno-deprecated-declarations -Wno-unused-but-set-variable -Wno-missing-braces -fstack-protector-strong -fno-builtin-memcmp', 'cxxflags': '-Woverloaded-virtual -Wno-maybe-uninitialized -std=c++14', 'cc': '/opt/mongodbtoolchain/v2/bin/gcc: gcc (GCC) 5.4.0', 'cxx': '/opt/mongodbtoolchain/v2/bin/g++: g++ (GCC) 5.4.0', 'linkflags': '-pthread -Wl,-z,now -rdynamic -Wl,--fatal-warnings -fstack-protector-strong -fuse-ld=gold -Wl,--build-id -Wl,--hash-style=gnu -Wl,-z,noexecstack -Wl,--warn-execstack -Wl,-z,relro', 'target_arch': 'x86_64', 'target_os': 'linux'}, 'ok': 1.0, 'modules': [], 'version': '3.6.3', 'javascriptEngine': 'mozjs', 'sysInfo': 'deprecated', 'allocator': 'tcmalloc', 'openssl': {'running': 'OpenSSL 1.0.1t  3 May 2016', 'compiled': 'OpenSSL 1.0.1t  3 May 2016'}, 'gitVersion': '9586e557d54ef70f9ca4b43c26892cd55257e1a5', 'storageEngines': ['devnull', 'ephemeralForTest', 'mmapv1', 'wiredTiger']}\n"
     ]
    }
   ],
   "source": [
    "class mongo_connector():\n",
    "    \n",
    "    def __init__(*args, **kwargs):\n",
    "        self.conf_names = kwargs[]\n",
    "\n",
    "get_mongo_db_client(\"gandalf_pymarl\")"
   ]
  },
  {
   "cell_type": "code",
   "execution_count": null,
   "metadata": {},
   "outputs": [],
   "source": [
    "def get_exp_names()\n"
   ]
  },
  {
   "cell_type": "code",
   "execution_count": 5,
   "metadata": {},
   "outputs": [
    {
     "name": "stdout",
     "output_type": "stream",
     "text": [
      "Available objects for config:\n",
      "     AliasManager\n",
      "     DisplayFormatter\n",
      "     HistoryManager\n",
      "     IPCompleter\n",
      "     IPKernelApp\n",
      "     LoggingMagics\n",
      "     MagicsManager\n",
      "     PrefilterManager\n",
      "     ScriptMagics\n",
      "     StoreMagics\n",
      "     ZMQInteractiveShell\n"
     ]
    }
   ],
   "source": [
    "config"
   ]
  },
  {
   "cell_type": "code",
   "execution_count": null,
   "metadata": {},
   "outputs": [],
   "source": []
  }
 ],
 "metadata": {
  "kernelspec": {
   "display_name": "Python 3",
   "language": "python",
   "name": "python3"
  },
  "language_info": {
   "codemirror_mode": {
    "name": "ipython",
    "version": 3
   },
   "file_extension": ".py",
   "mimetype": "text/x-python",
   "name": "python",
   "nbconvert_exporter": "python",
   "pygments_lexer": "ipython3",
   "version": "3.5.2"
  }
 },
 "nbformat": 4,
 "nbformat_minor": 2
}
