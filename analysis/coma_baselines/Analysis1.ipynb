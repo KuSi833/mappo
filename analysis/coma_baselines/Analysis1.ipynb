{
 "cells": [
  {
   "cell_type": "code",
   "execution_count": 1,
   "metadata": {},
   "outputs": [],
   "source": [
    "import pymongo\n",
    "import os, sys\n",
    "root_dir = \"/home/cs/Documents/pymarl/src\"\n",
    "sys.path = ['/home/cs/Documents/pymarl/src'] + sys.path"
   ]
  },
  {
   "cell_type": "code",
   "execution_count": 2,
   "metadata": {},
   "outputs": [],
   "source": [
    "from config import mongodb"
   ]
  },
  {
   "cell_type": "code",
   "execution_count": 3,
   "metadata": {},
   "outputs": [],
   "source": [
    "from config.mongodb import REGISTRY as mongo_REGISTRY\n",
    "def get_mongo_db_client(conf_name, maxSevSelDelay=5000):    \n",
    "    mongo_conf = mongo_REGISTRY[conf_name](None, None)\n",
    "    db_url = mongo_conf[\"db_url\"]\n",
    "    client = pymongo.MongoClient(db_url, ssl=True, serverSelectionTimeoutMS=maxSevSelDelay)\n",
    "    return client.server_info()"
   ]
  },
  {
   "cell_type": "code",
   "execution_count": 4,
   "metadata": {},
   "outputs": [],
   "source": [
    "class MongoCentral():\n",
    "    \n",
    "    def __init__(self, *args, **kwargs):\n",
    "        self.conf_names = kwargs[\"conf_names\"]\n",
    "        self._connect(self.conf_names)\n",
    "        \n",
    "    def _connect(self, conf_names):\n",
    "        self.clients = {}\n",
    "        for _name in conf_names:\n",
    "            self.clients[_name] = get_mongo_db_client(_name)\n",
    "            \n",
    "    def get_exp_names():\n",
    "        names = {}\n",
    "        for key, client in self.clients.items():\n",
    "            names[key] = client[\"runs\"]\n",
    "        return names\n",
    "\n",
    "#get_mongo_db_client(\"gandalf_pymarl\")"
   ]
  },
  {
   "cell_type": "code",
   "execution_count": 5,
   "metadata": {},
   "outputs": [],
   "source": [
    "mongo_central = MongoCentral(conf_names=[\"gandalf_pymarl\"])"
   ]
  },
  {
   "cell_type": "code",
   "execution_count": 6,
   "metadata": {},
   "outputs": [
    {
     "ename": "TypeError",
     "evalue": "get_exp_names() takes 0 positional arguments but 1 was given",
     "output_type": "error",
     "traceback": [
      "\u001b[0;31m---------------------------------------------------------------------------\u001b[0m",
      "\u001b[0;31mTypeError\u001b[0m                                 Traceback (most recent call last)",
      "\u001b[0;32m<ipython-input-6-dbc46424397e>\u001b[0m in \u001b[0;36m<module>\u001b[0;34m()\u001b[0m\n\u001b[0;32m----> 1\u001b[0;31m \u001b[0mmongo_central\u001b[0m\u001b[0;34m.\u001b[0m\u001b[0mget_exp_names\u001b[0m\u001b[0;34m(\u001b[0m\u001b[0;34m)\u001b[0m\u001b[0;34m\u001b[0m\u001b[0m\n\u001b[0m",
      "\u001b[0;31mTypeError\u001b[0m: get_exp_names() takes 0 positional arguments but 1 was given"
     ]
    }
   ],
   "source": [
    "mongo_central.get_exp_names()"
   ]
  },
  {
   "cell_type": "code",
   "execution_count": null,
   "metadata": {},
   "outputs": [],
   "source": []
  }
 ],
 "metadata": {
  "kernelspec": {
   "display_name": "Python 3",
   "language": "python",
   "name": "python3"
  },
  "language_info": {
   "codemirror_mode": {
    "name": "ipython",
    "version": 3
   },
   "file_extension": ".py",
   "mimetype": "text/x-python",
   "name": "python",
   "nbconvert_exporter": "python",
   "pygments_lexer": "ipython3",
   "version": "3.5.2"
  }
 },
 "nbformat": 4,
 "nbformat_minor": 2
}
