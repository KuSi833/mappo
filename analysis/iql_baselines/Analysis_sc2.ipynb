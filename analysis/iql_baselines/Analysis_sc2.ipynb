{
 "cells": [
  {
   "cell_type": "code",
   "execution_count": 1,
   "metadata": {},
   "outputs": [],
   "source": [
    "%matplotlib inline\n",
    "import matplotlib.pyplot as plt\n",
    "import pymongo\n",
    "import os, sys\n",
    "root_dir = \"/home/cs/Documents/pymarl/src\"\n",
    "sys.path = ['/home/cs/Documents/pymarl/src'] + sys.path"
   ]
  },
  {
   "cell_type": "code",
   "execution_count": 2,
   "metadata": {},
   "outputs": [],
   "source": [
    "from config import mongodb"
   ]
  },
  {
   "cell_type": "code",
   "execution_count": 3,
   "metadata": {},
   "outputs": [],
   "source": [
    "from config.mongodb import REGISTRY as mongo_REGISTRY\n",
    "def get_mongo_db_client(conf_name, maxSevSelDelay=5000):    \n",
    "    mongo_conf = mongo_REGISTRY[conf_name](None, None)\n",
    "    db_url = mongo_conf[\"db_url\"]\n",
    "    db_name = mongo_conf[\"db_name\"]\n",
    "    client = pymongo.MongoClient(db_url, ssl=True, serverSelectionTimeoutMS=maxSevSelDelay)\n",
    "    return client, client[db_name]"
   ]
  },
  {
   "cell_type": "code",
   "execution_count": 4,
   "metadata": {},
   "outputs": [],
   "source": [
    "class MongoCentral():\n",
    "    \n",
    "    def __init__(self, *args, **kwargs):\n",
    "        self.conf_names = kwargs[\"conf_names\"]\n",
    "        self.db = {}\n",
    "        self._connect(self.conf_names)\n",
    "        \n",
    "    def _connect(self, conf_names):\n",
    "        self.clients = {}\n",
    "        for _name in conf_names:\n",
    "            self.clients[_name], self.db[_name] = get_mongo_db_client(_name)\n",
    "            \n",
    "    def get_exp_names(self):\n",
    "        #print(\"Loading keys...\")\n",
    "        names = []\n",
    "        for key, db in self.db.items():\n",
    "            query = db[\"runs\"].distinct(\"config.name\") # .find({\"config\":None})\n",
    "            names.extend(query)\n",
    "            print(\"Done Loading...\")\n",
    "        return names\n",
    "    \n",
    "    def get_tag_names(self, tag, bundle=True):\n",
    "        import re\n",
    "        names = []\n",
    "        for key, db in self.db.items():            \n",
    "            query = db.runs.find({\"config.name\":{'$regex':r'^{}(.*)'.format(tag)}}, {\"config.name\":1}) # .find({\"config\":None})\n",
    "            names.extend([_q[\"config\"][\"name\"] for _q in query])\n",
    "            print(\"Done Loading...\")\n",
    "            \n",
    "        if bundle: # bundle by experiment name\n",
    "            bundle_dic = {}\n",
    "            for name in names:\n",
    "                tag, exp_name_time_stamp, repeat = name.split(\"__\")\n",
    "                exp_name = \"_\".join(exp_name_time_stamp.split(\"_\")[:-1])\n",
    "                if exp_name not in bundle_dic:\n",
    "                    bundle_dic[exp_name] = []\n",
    "                bundle_dic[exp_name].append(name) \n",
    "            return bundle_dic\n",
    "        return names\n",
    "\n",
    "    def get_name_prop(self, name, prop):\n",
    "        res = []\n",
    "        for key, db in self.db.items():\n",
    "            query = db.runs.find({\"config.name\":name}, {prop:1})\n",
    "            for _q in query:\n",
    "                res.append(_q)\n",
    "        return res"
   ]
  },
  {
   "cell_type": "code",
   "execution_count": null,
   "metadata": {},
   "outputs": [],
   "source": []
  },
  {
   "cell_type": "code",
   "execution_count": 5,
   "metadata": {},
   "outputs": [],
   "source": [
    "mongo_central = MongoCentral(conf_names=[\"gandalf_pymarl\"])"
   ]
  },
  {
   "cell_type": "code",
   "execution_count": 6,
   "metadata": {},
   "outputs": [
    {
     "name": "stdout",
     "output_type": "stream",
     "text": [
      "Done Loading...\n",
      "{}\n"
     ]
    }
   ],
   "source": [
    "import pprint\n",
    "b = mongo_central.get_tag_names(\"HOUSE2\")\n",
    "pprint.pprint(b)"
   ]
  },
  {
   "cell_type": "code",
   "execution_count": 7,
   "metadata": {},
   "outputs": [],
   "source": [
    "def plot_bundle(bundle, mongo_central, prop, mode = \"\"): # mode: individual, all\n",
    "    import pandas as pd\n",
    "    if mode in [\"individual\"]:\n",
    "        # make separate plot for each key, showing all subkeys\n",
    "        df_dict={}\n",
    "        for _exp, _names in bundle.items():\n",
    "            episode_rewards_test = []\n",
    "            t_env_test = []\n",
    "            dfs = []\n",
    "            for _i, _name in enumerate(_names):\n",
    "                ret = mongo_central.get_name_prop(_name, \"info.{}\".format(prop))                \n",
    "                ret2 = mongo_central.get_name_prop(_name, \"info.T env test\")\n",
    "                try:\n",
    "                    if ret[0][\"info\"] != {}:\n",
    "                        episode_rewards_test.append(ret[0][\"info\"][prop])\n",
    "                        t_env_test.append(ret2[0][\"info\"][\"T env test\"])\n",
    "                        min_len = min(len(t_env_test[-1]), len(episode_rewards_test[-1]))\n",
    "                        df  = pd.DataFrame(data=episode_rewards_test[-1][:min_len], \n",
    "                                           columns=[\"{}{}\".format(_exp, _i)], \n",
    "                                           index=t_env_test[-1][:min_len])\n",
    "                        dfs.append(df)\n",
    "                    else:\n",
    "                        #episode_rewards_test.append([])\n",
    "                        #t_env_test.append([])                    \n",
    "                        pass\n",
    "                except:\n",
    "                    continue\n",
    "                #print(episode_rewards_test)\n",
    "                #print(t_env_test)\n",
    "            total_df = pd.concat(dfs)\n",
    "            total_df.index = total_df.index.astype(int)\n",
    "            total_df = total_df.sort_index()\n",
    "            total_df = total_df.groupby(total_df.index).mean()\n",
    "            try:            \n",
    "                interpol_df = total_df.interpolate(method=\"nearest\")\n",
    "                pl = interpol_df.plot(title=\"Experiment: {}\".format(_exp),\n",
    "                  figsize=(20, 10))\n",
    "                df_mean = interpol_df.mean(axis=1, skipna=True)\n",
    "                df_std = interpol_df.std(axis=1, skipna=True)\n",
    "                df_dict[_name] = interpol_df\n",
    "            except Exception as e:\n",
    "                total_df = total_df.fillna(method='bfill')\n",
    "                pl = total_df.plot(title=\"Experiment: {}\".format(_exp),\n",
    "                  figsize=(20, 10))\n",
    "                df_mean = total_df.mean(axis=1, skipna=True)\n",
    "                df_std = total_df.std(axis=1, skipna=True)\n",
    "                df_dict[_name] = total_df\n",
    "                \n",
    "            plot_std_tube(pl, df_mean, df_std)\n",
    "            \n",
    "        return df_dict\n",
    "            #break\n",
    "            \n",
    "    elif mode in [\"all\"]: \n",
    "        # plot all keys on same plot, averaging over subkeys\n",
    "\n",
    "        pass\n",
    "\n",
    "def plot_std_tube(pl, df_mean, df_std, color=\"#EFF9FC\"):\n",
    "    #std = df_std.std(axis=1, skipna=True)\n",
    "    #mn = df_mean.mean(axis=1, skipna=True)\n",
    "    df_mean.plot(ax=pl, style='y^-')\n",
    "    pl.fill_between(df_mean.index, df_mean - df_std,  \n",
    "                 df_mean + df_std, color=color)\n"
   ]
  },
  {
   "cell_type": "code",
   "execution_count": 8,
   "metadata": {},
   "outputs": [],
   "source": [
    "d1 = plot_bundle(b, mongo_central, prop=\"Episode reward test\", mode=\"individual\")"
   ]
  },
  {
   "cell_type": "code",
   "execution_count": 9,
   "metadata": {},
   "outputs": [],
   "source": [
    "d2 = plot_bundle(b, mongo_central, prop=\"Win rate test\", mode=\"individual\")"
   ]
  },
  {
   "cell_type": "code",
   "execution_count": 10,
   "metadata": {},
   "outputs": [],
   "source": [
    "d3 = plot_bundle(b, mongo_central, prop=\"Critic loss\", mode=\"individual\")"
   ]
  },
  {
   "cell_type": "code",
   "execution_count": 11,
   "metadata": {},
   "outputs": [],
   "source": [
    "d4 = plot_bundle(b, mongo_central, prop=\"Policy entropy\", mode=\"individual\")"
   ]
  },
  {
   "cell_type": "code",
   "execution_count": 12,
   "metadata": {},
   "outputs": [],
   "source": [
    "d6 = plot_bundle(b, mongo_central, prop=\"Win rate\", mode=\"individual\")"
   ]
  },
  {
   "cell_type": "code",
   "execution_count": 13,
   "metadata": {},
   "outputs": [],
   "source": [
    "d7 = plot_bundle(b, mongo_central, prop=\"Episode length test\", mode=\"individual\")"
   ]
  },
  {
   "cell_type": "code",
   "execution_count": null,
   "metadata": {},
   "outputs": [],
   "source": []
  }
 ],
 "metadata": {
  "kernelspec": {
   "display_name": "Python 3",
   "language": "python",
   "name": "python3"
  },
  "language_info": {
   "codemirror_mode": {
    "name": "ipython",
    "version": 3
   },
   "file_extension": ".py",
   "mimetype": "text/x-python",
   "name": "python",
   "nbconvert_exporter": "python",
   "pygments_lexer": "ipython3",
   "version": "3.5.2"
  }
 },
 "nbformat": 4,
 "nbformat_minor": 2
}
